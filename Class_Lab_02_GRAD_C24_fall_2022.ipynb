{
  "nbformat": 4,
  "nbformat_minor": 0,
  "metadata": {
    "colab": {
      "provenance": [],
      "authorship_tag": "ABX9TyNnIYrcBS0Trn+Y3y1Dn4s4",
      "include_colab_link": true
    },
    "kernelspec": {
      "name": "python3",
      "display_name": "Python 3"
    },
    "language_info": {
      "name": "python"
    }
  },
  "cells": [
    {
      "cell_type": "markdown",
      "metadata": {
        "id": "view-in-github",
        "colab_type": "text"
      },
      "source": [
        "<a href=\"https://colab.research.google.com/github/Hertie-School-Machine-Learning-F2022/Class_Lab_02/blob/main/Class_Lab_02_GRAD_C24_fall_2022.ipynb\" target=\"_parent\"><img src=\"https://colab.research.google.com/assets/colab-badge.svg\" alt=\"Open In Colab\"/></a>"
      ]
    },
    {
      "cell_type": "markdown",
      "source": [
        "# Loop Practice Exercises\n",
        "\n",
        "## In groups of 2 or 3 go over the following excercises.\n",
        "\n",
        "1. Create a list of numbers from 1 to 25 using the range function, and print it."
      ],
      "metadata": {
        "id": "foGOyvOkUnEL"
      }
    },
    {
      "cell_type": "code",
      "source": [
        "# Write your code here\n"
      ],
      "metadata": {
        "id": "2nabBBO_WFUY"
      },
      "execution_count": null,
      "outputs": []
    },
    {
      "cell_type": "markdown",
      "source": [
        "2. Use a for loop to go through the list above, and print each number that is divisible by four. (Hint: “if” statement and the modulo operator might be a good idea)."
      ],
      "metadata": {
        "id": "krVHkcDMWF4D"
      }
    },
    {
      "cell_type": "code",
      "source": [
        "# Write your code here\n"
      ],
      "metadata": {
        "id": "E1Wvwce0WGKT"
      },
      "execution_count": null,
      "outputs": []
    },
    {
      "cell_type": "markdown",
      "source": [
        "3. Set an integer to 1, using a while loop print from 1 to 26 without using a range function. (Hint: a while loop might help)"
      ],
      "metadata": {
        "id": "15Gd2DM1WGSY"
      }
    },
    {
      "cell_type": "code",
      "source": [
        "# Write your code here"
      ],
      "metadata": {
        "id": "AGVCZkMFWGj4"
      },
      "execution_count": null,
      "outputs": []
    },
    {
      "cell_type": "markdown",
      "source": [
        "4. Given the following dictionary, write a for loop that prints the value if the key is in the 'key_list' given below."
      ],
      "metadata": {
        "id": "r8gNuIUfWGrF"
      }
    },
    {
      "cell_type": "code",
      "source": [
        "people = {'Names':['Slava Jankin', 'Simon Munzert', 'Lynn Kaack', 'William Lowe', 'Hannah Bechara', 'Olga Gasparyan'], \n",
        "          'Title':['Profesor', 'Profesor', 'Profesor', 'Doctor', 'Doctor', 'PhD'], \n",
        "          'Class':['Machine Learning', 'Data Science', 'Deep Learning', 'Causal Inference', 'NLP', 'Computational Social Science'], \n",
        "          'Room':[1.10, 1.11, 1.12, 1.13, 1.14, 1.15]}\n",
        "\n",
        "key_list = ['Names', 'Class']\n",
        "\n",
        "# Write your code here\n"
      ],
      "metadata": {
        "id": "XHkfHuxWWGyO"
      },
      "execution_count": null,
      "outputs": []
    },
    {
      "cell_type": "markdown",
      "source": [
        "9. Write a loop that iterates the string: “The quick brown fox jumps over the lazy dog”, creates a list of the vowels in the sentence, and prints it. (Hint: you can use the 'in' operator)"
      ],
      "metadata": {
        "id": "2iBhJ-0kWG5d"
      }
    },
    {
      "cell_type": "code",
      "source": [
        "# Write your code here\n"
      ],
      "metadata": {
        "id": "3Re4sjt8WHDa"
      },
      "execution_count": null,
      "outputs": []
    },
    {
      "cell_type": "markdown",
      "source": [
        "# Let's talk about functions\n",
        "\n",
        "## What is a function? \n",
        "\n",
        "## What components make up a function?\n",
        "\n",
        "## Examples of common functions?\n",
        "\n",
        "\n",
        "Using the last excercise, create a function that can have as an input any string, and as output a list of the vowels in the string."
      ],
      "metadata": {
        "id": "Ui_9055TcHmO"
      }
    },
    {
      "cell_type": "code",
      "source": [
        "# Example of a simple function \n",
        "\n",
        "# First we have to call 'def' to specify that we are creating a function.\n",
        "# Name the function and add the arguments that it will take\n",
        "def my_function(name):\n",
        "                             # It is a common practice to add a description of what the function does\n",
        "  \"\"\"                           \n",
        "  This function prints your\n",
        "  name plus a greeting\n",
        "  \"\"\"\n",
        "                                 #Then we add what the function will perform with the input"
      ],
      "metadata": {
        "id": "fyB56Wn6cytO"
      },
      "execution_count": null,
      "outputs": []
    },
    {
      "cell_type": "code",
      "source": [
        "# Write your code here and call your function \"vowel_printer\"\n"
      ],
      "metadata": {
        "id": "7tQ4EvrBcWHt"
      },
      "execution_count": null,
      "outputs": []
    },
    {
      "cell_type": "markdown",
      "source": [
        "## We are now using this to transition to SciKit-learn\n",
        "\n",
        "## '[Scikit-learn](https://www.tutorialspoint.com/scikit_learn/index.htm) (Sklearn) is the most useful and robust library for machine learning in Python. It provides a selection of efficient tools for machine learning and statistical modeling including classification, regression, clustering and dimensionality reduction via a consistence interface in Python. This library, which is largely written in Python, is built upon NumPy, SciPy and Matplotlib.'\n",
        "\n",
        "## These 'efficient tools' are functions! What's great about this is that the people at SciKit-Learn have already designed and implemented a great range of functions that are ready to use for ML processes.\n",
        "\n",
        "## Let's go through one of these now\n"
      ],
      "metadata": {
        "id": "DGCHZEdWeLZc"
      }
    },
    {
      "cell_type": "code",
      "source": [
        "%pip install --upgrade scikit-learn==0.23.0"
      ],
      "metadata": {
        "id": "3KST-QewfqAA"
      },
      "execution_count": null,
      "outputs": []
    },
    {
      "cell_type": "code",
      "source": [
        "# SKlearn comes with a lot of datasets, we are going to use a popular housing prices dataset\n",
        "\n",
        "\n",
        "# What is the general purpose of machine learning? \n",
        "\n",
        "\n",
        "# It is common practice in ML that we call the data we use to train 'X'\n",
        "# and 'y' is how we call the data we want to predict.\n",
        "# We can set it like this for now\n",
        "\n"
      ],
      "metadata": {
        "id": "7NDwrlM2gVHo"
      },
      "execution_count": null,
      "outputs": []
    },
    {
      "cell_type": "code",
      "source": [
        "# We will now import our first ML algorithm, a 'K-nearest neighbors regressor'\n",
        "#  and set it as our model\n",
        "\n"
      ],
      "metadata": {
        "id": "voHTPDFHhi39"
      },
      "execution_count": null,
      "outputs": []
    },
    {
      "cell_type": "code",
      "source": [
        "# Lets ask the model to predict. \n",
        "\n",
        "\n",
        "# Why are we getting an error?\n",
        "\n",
        "# What step goes first?"
      ],
      "metadata": {
        "id": "2yHQ2UKHiTxA"
      },
      "execution_count": null,
      "outputs": []
    },
    {
      "cell_type": "code",
      "source": [
        "# We first need to fit the model! \n",
        "# That's when it 'learns'\n",
        "\n"
      ],
      "metadata": {
        "id": "O7BuXDdqieHz"
      },
      "execution_count": null,
      "outputs": []
    },
    {
      "cell_type": "code",
      "source": [
        "# Now after fitting, we can ask for predictions\n",
        "\n",
        "\n",
        "# We can verify that each prediction is the same number of X rows we had before.\n",
        "# (One prediction per item)"
      ],
      "metadata": {
        "id": "T8IQUQiVisi6"
      },
      "execution_count": null,
      "outputs": []
    },
    {
      "cell_type": "code",
      "source": [
        "# We can also try with a totally different model\n",
        "\n",
        "\n",
        "\n",
        "# So we can see that the general flow and functions in SKlearn are very easy to \n",
        "# implement and follow the same logic."
      ],
      "metadata": {
        "id": "YPBCncuJjAqI"
      },
      "execution_count": null,
      "outputs": []
    },
    {
      "cell_type": "code",
      "source": [
        "# Let's move back to our KNN and fit it \n",
        "# SKlearn lets you build on top of stuff to make it easier, as below.\n",
        "\n"
      ],
      "metadata": {
        "id": "JEzKvZAhjcbF"
      },
      "execution_count": null,
      "outputs": []
    },
    {
      "cell_type": "code",
      "source": [
        "#Let's plot it and see that happens\n",
        "\n",
        "\n",
        "\n",
        "# What are we seeing here? \n"
      ],
      "metadata": {
        "id": "H_zTSrxxjqJ4"
      },
      "execution_count": null,
      "outputs": []
    },
    {
      "cell_type": "markdown",
      "source": [
        "A model is not only then, fitting a predicting. Some extra steps are needed. \n",
        "\n",
        "What are some common steps that are part of the Machine Learning process?\n"
      ],
      "metadata": {
        "id": "YBRXTrbdEBcv"
      }
    },
    {
      "cell_type": "code",
      "source": [
        "# Preprocessing the data\n",
        "\n",
        "# What if our data is not in the same scale? We have some X in thousands of\n",
        "# dlls and some X in sqft in this case. Thats a big difference that can create\n",
        "# some noise.\n",
        "\n",
        "# So what do we need right now? We talked about scaling our data. This is a typical\n",
        "# preprocessing step\n",
        "\n"
      ],
      "metadata": {
        "id": "YVamW6ljlVPv"
      },
      "execution_count": null,
      "outputs": []
    },
    {
      "cell_type": "code",
      "source": [
        "# In SKLearn, this idea of the steps that need to be part of an ML model can be \n",
        "# concatenated together by using a 'pipeline' object.\n",
        "\n"
      ],
      "metadata": {
        "id": "mqHwNESLEc3P"
      },
      "execution_count": null,
      "outputs": []
    },
    {
      "cell_type": "code",
      "source": [
        "#Previously we did this\n",
        "\n",
        "\n",
        "#now with a pipeline it looks like this\n"
      ],
      "metadata": {
        "id": "2oOPNmoFoZ26"
      },
      "execution_count": null,
      "outputs": []
    },
    {
      "cell_type": "code",
      "source": [
        "# We can also apply .fit and .predict to pipelines. Making our job much easier\n",
        "# and \n",
        "\n",
        "\n",
        "# Is this smoother? \n"
      ],
      "metadata": {
        "id": "zuXzHJEo1PYh"
      },
      "execution_count": null,
      "outputs": []
    },
    {
      "cell_type": "code",
      "source": [
        "# Let's adjust one of the setting, and see what happens\n",
        "\n",
        "\n",
        "# What happened here?\n"
      ],
      "metadata": {
        "id": "fc0SqbwO1qxA"
      },
      "execution_count": null,
      "outputs": []
    },
    {
      "cell_type": "code",
      "source": [
        "# This is not telling un anything! It's using the same data to train and to predict.\n",
        "# It's kind of like cheating."
      ],
      "metadata": {
        "id": "0RO3YKnk2qBt"
      },
      "execution_count": null,
      "outputs": []
    },
    {
      "cell_type": "code",
      "source": [
        "# How about if we keep expanding the concept of what a model is? \n",
        "# What other things can we adjust in our pipeline? \n",
        "\n",
        "# We saw we can adjust the number of neighbors... k = 1,2,3,4,5...\n",
        "\n",
        "# We can also change how we train the data, because what we were doing before is not a good idea:\n",
        "# We can fit and predict multiple times on different data...\n",
        "\n",
        "# Is it possible to try different versions and compare?"
      ],
      "metadata": {
        "id": "--hdnNAS2zlf"
      },
      "execution_count": null,
      "outputs": []
    },
    {
      "cell_type": "code",
      "source": [
        "# what parameters can we modify?\n",
        "\n",
        "\n",
        "# We see tha Scaler Parameteres and the KNR parameters"
      ],
      "metadata": {
        "id": "Sz3aoLIV4UaO"
      },
      "execution_count": null,
      "outputs": []
    },
    {
      "cell_type": "code",
      "source": [
        "# Additionally we want to use cross validation. \n",
        "# What is cross validation?"
      ],
      "metadata": {
        "id": "xOYG-30H4pNG"
      },
      "execution_count": null,
      "outputs": []
    },
    {
      "cell_type": "code",
      "source": [
        "\n",
        "\n",
        "# And we just .fit and let it train.\n"
      ],
      "metadata": {
        "id": "7ktqTXeR3z3M"
      },
      "execution_count": null,
      "outputs": []
    },
    {
      "cell_type": "code",
      "source": [
        "# And now we can see all the stats of the parameters that were modified in each \n",
        "# cross validation.\n",
        "\n"
      ],
      "metadata": {
        "id": "g-9JWzsY4LT9"
      },
      "execution_count": null,
      "outputs": []
    },
    {
      "cell_type": "code",
      "source": [
        "# If you think about it, this is a very neat pipeline, with very simple code.\n",
        "# SKlearn is great because it like buidling blocks on top of each other to \n",
        "# create a model.\n"
      ],
      "metadata": {
        "id": "bfb597WX5CjP"
      },
      "execution_count": null,
      "outputs": []
    },
    {
      "cell_type": "markdown",
      "source": [
        "# Is this ready for production?"
      ],
      "metadata": {
        "id": "9hFqHFEs5Wvh"
      }
    },
    {
      "cell_type": "code",
      "source": [
        "\n",
        "\n",
        "# How many data points are here?\n",
        "\n",
        "# From what year is this?\n",
        "\n",
        "# What attributes are here?"
      ],
      "metadata": {
        "id": "FNVNecfC5eZv"
      },
      "execution_count": null,
      "outputs": []
    },
    {
      "cell_type": "code",
      "source": [
        "# What do you guys think about the B variable? What is it? \n",
        "\n",
        "# What are we going to be deploying and what would be the effects of using this?\n",
        "\n"
      ],
      "metadata": {
        "id": "47yxislt5t7t"
      },
      "execution_count": null,
      "outputs": []
    }
  ]
}